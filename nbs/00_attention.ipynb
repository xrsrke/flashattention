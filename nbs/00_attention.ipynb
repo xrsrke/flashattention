{
 "cells": [
  {
   "attachments": {},
   "cell_type": "markdown",
   "metadata": {},
   "source": [
    "# Attention\n",
    "\n",
    "> Fill in a module description here"
   ]
  },
  {
   "cell_type": "code",
   "execution_count": 1,
   "metadata": {},
   "outputs": [],
   "source": [
    "#| default_exp attention"
   ]
  },
  {
   "cell_type": "code",
   "execution_count": null,
   "metadata": {},
   "outputs": [],
   "source": [
    "#| hide\n",
    "from nbdev.showdoc import *"
   ]
  },
  {
   "cell_type": "code",
   "execution_count": null,
   "metadata": {},
   "outputs": [],
   "source": [
    "#| hide\n",
    "import nbdev; nbdev.nbdev_export()"
   ]
  },
  {
   "cell_type": "code",
   "execution_count": 3,
   "metadata": {},
   "outputs": [],
   "source": [
    "#| export\n",
    "from typing import Optional, Tuple\n",
    "\n",
    "import torch\n",
    "from torch import nn\n",
    "import torch.nn.functional as F\n",
    "\n",
    "from torchtyping import TensorType"
   ]
  },
  {
   "cell_type": "code",
   "execution_count": 4,
   "metadata": {},
   "outputs": [],
   "source": [
    "#| export\n",
    "class Attention(nn.Module):\n",
    "    def __init__(self, query_dim: int, key_dim: int, value_dim: int, dropout: float=0.1):\n",
    "        super().__init__()\n",
    "        self.query_dim = query_dim\n",
    "        self.key_dim = key_dim\n",
    "        self.value_dim = value_dim\n",
    "        self.dropout = dropout\n",
    "        self.scale = 1 / (key_dim ** 0.5)\n",
    "        \n",
    "        self.query = nn.Linear(query_dim, key_dim)\n",
    "        self.key = nn.Linear(key_dim, key_dim)\n",
    "        self.value = nn.Linear(value_dim, value_dim)\n",
    "        self.dropout = nn.Dropout(dropout)\n",
    "\n",
    "    def forward(\n",
    "        self,\n",
    "        query: TensorType[\"batch_size\", \"seq_len\", \"n_dim\"],\n",
    "        key: TensorType[\"batch_size\", \"seq_len\", \"n_dim\"],\n",
    "        value: TensorType[\"batch_size\", \"seq_len\", \"n_dim\"],\n",
    "        mask: Optional[TensorType[\"batch_size\", \"seq_len\", \"seq_len\"]] = None\n",
    "    ) -> Tuple[\n",
    "        TensorType[\"batch_size\", \"seq_len\", \"n_dim\"],\n",
    "        TensorType[\"batch_size\", \"seq_len\", \"seq_len\"]\n",
    "    ]:\n",
    "        query = self.query(query)\n",
    "        key = self.key(key)\n",
    "        value = self.value(value)\n",
    "        scores = torch.matmul(query, key.transpose(-2, -1)) * self.scale\n",
    "        \n",
    "        if mask is not None:\n",
    "            scores = scores.masked_fill(mask == 0, -1e9)\n",
    "        \n",
    "        p_attn = F.softmax(scores, dim=-1)\n",
    "        p_attn = self.dropout(p_attn)\n",
    "        \n",
    "        output = torch.matmul(p_attn, value)\n",
    "        \n",
    "        return output, p_attn"
   ]
  }
 ],
 "metadata": {
  "kernelspec": {
   "display_name": "Python 3 (ipykernel)",
   "language": "python",
   "name": "python3"
  },
  "language_info": {
   "codemirror_mode": {
    "name": "ipython",
    "version": 3
   },
   "file_extension": ".py",
   "mimetype": "text/x-python",
   "name": "python",
   "nbconvert_exporter": "python",
   "pygments_lexer": "ipython3",
   "version": "3.9.13"
  }
 },
 "nbformat": 4,
 "nbformat_minor": 4
}
