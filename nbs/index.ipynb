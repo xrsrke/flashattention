{
 "cells": [
  {
   "attachments": {},
   "cell_type": "markdown",
   "metadata": {},
   "source": [
    "# FlashAttention - 🚧 WORK IN PROGRESS 🚧\n",
    "\n",
    "> Implementation of FlashAttention: Fast and Memory-Efficient Exact Attention with IO-Awareness"
   ]
  }
 ],
 "metadata": {
  "kernelspec": {
   "display_name": "Python 3 (ipykernel)",
   "language": "python",
   "name": "python3"
  }
 },
 "nbformat": 4,
 "nbformat_minor": 4
}
